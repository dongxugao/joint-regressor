{
 "cells": [
  {
   "cell_type": "markdown",
   "metadata": {},
   "source": [
    "## Writing wrists alone to HDF5 files"
   ]
  },
  {
   "cell_type": "code",
   "execution_count": 1,
   "metadata": {
    "collapsed": false
   },
   "outputs": [
    {
     "data": {
      "text/plain": [
       "array([['wrstX1', 'wrstY1'],\n",
       "       ['wrstX2', 'wrstY2']], \n",
       "      dtype='|S6')"
      ]
     },
     "execution_count": 1,
     "metadata": {},
     "output_type": "execute_result"
    }
   ],
   "source": [
    "import numpy as np\n",
    "\n",
    "def _label_to_coords(label):\n",
    "    return label.reshape((-1, 2))\n",
    "\n",
    "_label_to_coords(np.array(\n",
    "    ['sholX1', 'sholY1', 'elboX1', 'elboY1', 'wrstX1', 'wrstY1', 'sholX2', 'sholY2', 'elboX2', 'elboY2', 'wrstX2', 'wrstY2']\n",
    ")[[4, 5, 10, 11]])"
   ]
  },
  {
   "cell_type": "markdown",
   "metadata": {},
   "source": [
    "So, given the above, it seems that the wrist coordinates are in indices $\\begin{bmatrix}4 & 5 & 10 & 11\\end{bmatrix}$ (using zero-based indexing rather than Matlab-style indexing)."
   ]
  },
  {
   "cell_type": "code",
   "execution_count": 5,
   "metadata": {
    "collapsed": false
   },
   "outputs": [],
   "source": [
    "import h5py\n",
    "def write_new_jointset(h5_path, mask, new_name):\n",
    "    with h5py.File(h5_path, 'r+') as fp:\n",
    "        masked_joints = fp['/joints'][:, mask]\n",
    "        fp[new_name] = masked_joints\n",
    "        \n",
    "wrist_mask = [4, 5, 10, 11]\n",
    "# write_new_jointset('../cache/train-patches-mpii-fixed/samples-000001.h5', wrist_mask, '/wrists')\n",
    "# write_new_jointset('../cache/val-patches-mpii-fixed/samples-000001.h5', wrist_mask, '/wrists')"
   ]
  },
  {
   "cell_type": "code",
   "execution_count": null,
   "metadata": {
    "collapsed": true
   },
   "outputs": [],
   "source": []
  }
 ],
 "metadata": {
  "kernelspec": {
   "display_name": "Python 2",
   "language": "python",
   "name": "python2"
  },
  "language_info": {
   "codemirror_mode": {
    "name": "ipython",
    "version": 2
   },
   "file_extension": ".py",
   "mimetype": "text/x-python",
   "name": "python",
   "nbconvert_exporter": "python",
   "pygments_lexer": "ipython2",
   "version": "2.7.6"
  }
 },
 "nbformat": 4,
 "nbformat_minor": 0
}
