{
 "cells": [
  {
   "cell_type": "code",
   "execution_count": null,
   "metadata": {
    "collapsed": false
   },
   "outputs": [],
   "source": [
    "%matplotlib inline\n",
    "\n",
    "from json import loads\n",
    "\n",
    "import matplotlib.pyplot as plt\n",
    "\n",
    "import numpy as np\n",
    "\n",
    "def fetch_data(path):\n",
    "    rv = []\n",
    "    with open(path, 'r') as fp:\n",
    "        for line in fp:\n",
    "            rv.append(loads(line))\n",
    "    return rv\n",
    "\n",
    "def get_subset(data, name):\n",
    "    all_data = [d for d in data if d['type'] == name]\n",
    "    x_axis = np.cumsum([d['bsize'] for d in all_data])\n",
    "    y_axis = [d['loss'] for d in all_data]\n",
    "    return x_axis, y_axis\n",
    "\n",
    "def split_epochs(data):\n",
    "    epochs = {\n",
    "        'train': [],\n",
    "        'val_batch': []\n",
    "    }\n",
    "    current_epoch = None\n",
    "    for datum in data:\n",
    "        t = datum['type']\n",
    "        if t not in epochs:\n",
    "            continue\n",
    "        if current_epoch != t:\n",
    "            current_epoch = t\n",
    "            epochs[current_epoch].append([])\n",
    "        # Should probably handle batch size too. Oh well.\n",
    "        epochs[current_epoch][-1].append(datum['loss'])\n",
    "    return epochs['train'], epochs['val_batch']\n",
    "\n",
    "def plot_data(data):\n",
    "    x_val = 0\n",
    "    train_x, train_y, val_x, val_y = [], [], [], []\n",
    "    for datum in data:\n",
    "        t = datum['type']\n",
    "        if t not in ['train', 'val_batch']:\n",
    "            continue\n",
    "        x_val += datum['bsize']\n",
    "        loss = datum['loss']\n",
    "        if t == 'train':\n",
    "            train_y.append(loss)\n",
    "            train_x.append(x_val)\n",
    "        else:\n",
    "            val_y.append(loss)\n",
    "            val_x.append(x_val)\n",
    "    # train_x, train_y = get_subset(data, 'train')\n",
    "    # val_x, val_y = get_subset(data, 'val_batch')\n",
    "    plt.plot(train_x, train_y, label='Training', ls=' ', marker='+')\n",
    "    plt.plot(val_x, val_y, label='Validation', ls=' ', marker='v')\n",
    "    plt.xlim(xmin=0)\n",
    "    plt.ylim(ymin=0)\n",
    "    plt.xlabel('Samples seen')\n",
    "    plt.ylabel('Loss')\n",
    "    plt.title('Training and validation loss')\n",
    "    plt.legend()\n",
    "    plt.show()\n",
    "    \n",
    "def do_boxplot(epochs, title):\n",
    "    plt.boxplot(epochs)\n",
    "    plt.ylim(ymin=0)\n",
    "    plt.title(title)\n",
    "    plt.ylabel('Loss')\n",
    "    plt.xlabel('Epoch')\n",
    "    plt.show()\n",
    "    \n",
    "def plot_by_epoch(data):\n",
    "    train_epochs, val_epochs = split_epochs(data)\n",
    "    do_boxplot(train_epochs, 'Training loss')\n",
    "    do_boxplot(val_epochs, 'Validation loss')"
   ]
  },
  {
   "cell_type": "code",
   "execution_count": null,
   "metadata": {
    "collapsed": true
   },
   "outputs": [],
   "source": [
    "data_path = '../cache/kcnn-flow-rgb-poselet-highdrop/logs/numlog-2016-03-21T22:04:55.577568.log'"
   ]
  },
  {
   "cell_type": "code",
   "execution_count": null,
   "metadata": {
    "collapsed": false,
    "scrolled": false
   },
   "outputs": [],
   "source": [
    "all_data = fetch_data(data_path)\n",
    "plot_data(all_data)\n",
    "plot_by_epoch(all_data)"
   ]
  },
  {
   "cell_type": "code",
   "execution_count": null,
   "metadata": {
    "collapsed": true
   },
   "outputs": [],
   "source": []
  }
 ],
 "metadata": {
  "kernelspec": {
   "display_name": "Python 2",
   "language": "python",
   "name": "python2"
  },
  "language_info": {
   "codemirror_mode": {
    "name": "ipython",
    "version": 2
   },
   "file_extension": ".py",
   "mimetype": "text/x-python",
   "name": "python",
   "nbconvert_exporter": "python",
   "pygments_lexer": "ipython2",
   "version": "2.7.6"
  }
 },
 "nbformat": 4,
 "nbformat_minor": 0
}
