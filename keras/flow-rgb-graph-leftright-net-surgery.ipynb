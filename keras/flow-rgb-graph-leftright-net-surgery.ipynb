{
 "cells": [
  {
   "cell_type": "markdown",
   "metadata": {},
   "source": [
    "# `leftright` experiment\n",
    "\n",
    "This notebook loads weights into a network just like the normal two-stream graph one, but with only one combined regressor output for left and right arms."
   ]
  },
  {
   "cell_type": "code",
   "execution_count": 1,
   "metadata": {
    "collapsed": false
   },
   "outputs": [
    {
     "name": "stderr",
     "output_type": "stream",
     "text": [
      "Using gpu device 1: Tesla K80 (CNMeM is enabled)\n",
      "/home/sam/repos/joint-regressor/keras/env/local/lib/python2.7/site-packages/theano/tensor/signal/downsample.py:5: UserWarning: downsample module has been moved to the pool module.\n",
      "  warnings.warn(\"downsample module has been moved to the pool module.\")\n"
     ]
    },
    {
     "name": "stdout",
     "output_type": "stream",
     "text": [
      "Using Theano backend.\n",
      "Concatenating old L1 dimensions to change shape, (64, 3, 3, 3)->(64, 2, 3, 3)\n",
      "First layer done\n",
      "WARNING: layer count differs (17 new v. 37 old)\n",
      "Changing ZeroPadding2D\n",
      "Changing Convolution2D\n",
      "Changing MaxPooling2D\n",
      "Changing ZeroPadding2D\n",
      "Changing Convolution2D\n",
      "Changing ZeroPadding2D\n",
      "Changing Convolution2D\n",
      "Changing MaxPooling2D\n",
      "Changing ZeroPadding2D\n",
      "Changing Convolution2D\n",
      "Changing ZeroPadding2D\n",
      "Changing Convolution2D\n",
      "Changing ZeroPadding2D\n",
      "Changing Convolution2D\n",
      "Changing MaxPooling2D\n",
      "Concatenating old L1 dimensions to change shape, (64, 3, 3, 3)->(64, 6, 3, 3)\n",
      "First layer done\n",
      "WARNING: layer count differs (17 new v. 37 old)\n",
      "Changing ZeroPadding2D\n",
      "Changing Convolution2D\n",
      "Changing MaxPooling2D\n",
      "Changing ZeroPadding2D\n",
      "Changing Convolution2D\n",
      "Changing ZeroPadding2D\n",
      "Changing Convolution2D\n",
      "Changing MaxPooling2D\n",
      "Changing ZeroPadding2D\n",
      "Changing Convolution2D\n",
      "Changing ZeroPadding2D\n",
      "Changing Convolution2D\n",
      "Changing ZeroPadding2D\n",
      "Changing Convolution2D\n",
      "Changing MaxPooling2D\n",
      "Concatenating old L1 dimensions to change shape, (512, 256, 3, 3)->(512, 512, 3, 3)\n",
      "First layer done\n",
      "WARNING: layer count differs (19 new v. 20 old)\n",
      "Changing ZeroPadding2D\n",
      "Changing Convolution2D\n",
      "Changing ZeroPadding2D\n",
      "Changing Convolution2D\n",
      "Changing MaxPooling2D\n",
      "Changing ZeroPadding2D\n",
      "Changing Convolution2D\n",
      "Changing ZeroPadding2D\n",
      "Changing Convolution2D\n",
      "Changing ZeroPadding2D\n",
      "Changing Convolution2D\n",
      "Changing MaxPooling2D\n",
      "Changing Flatten\n",
      "Changing Dense\n",
      "Changing Dropout\n",
      "Changing Dense\n",
      "Changing Dropout\n",
      "[WARNING] vggnet/vgg16-2stream-3pose-lr-reg-clas.h5 already exists - overwrite? [y/n]y\n",
      "[TIP] Next time specify overwrite=True in save_weights!\n"
     ]
    }
   ],
   "source": [
    "from keras.optimizers import SGD\n",
    "\n",
    "import numpy as np\n",
    "\n",
    "import models\n",
    "from vggnet.upgrade_weights import upgrade_weights\n",
    "from vggnet.vgg16_keras import VGG_16\n",
    "\n",
    "models = reload(models)\n",
    "solver = SGD()\n",
    "rgb_shape = (6, 224, 224)\n",
    "flow_shape = (2, 224, 224)\n",
    "regressor_outputs = 6\n",
    "init = 'glorot_normal'\n",
    "huge = models.vggnet16_joint_reg_class_flow_leftright({\n",
    "    'images': (6, 224, 224),\n",
    "    'flow': (2, 224, 224),\n",
    "    'leftright': (16,),\n",
    "    'head': (16,),\n",
    "    'class': (4,)\n",
    "}, solver, init)\n",
    "flow_seq = huge.nodes['flow_conv']\n",
    "rgb_seq = huge.nodes['rgb_conv']\n",
    "ilsvrc_weights_path = './vggnet/vgg16_weights.h5'\n",
    "ilsvrc_model = VGG_16(ilsvrc_weights_path)\n",
    "upgrade_weights(flow_seq.layers, ilsvrc_model.layers)\n",
    "upgrade_weights(rgb_seq.layers, ilsvrc_model.layers)\n",
    "front_layers = len(flow_seq.layers)\n",
    "back_ilsvrc_layers = ilsvrc_model.layers[front_layers:]\n",
    "back_seq = huge.nodes['shared_layers']\n",
    "upgrade_weights(back_seq.layers, back_ilsvrc_layers)\n",
    "huge.save_weights('vggnet/vgg16-2stream-3pose-lr-reg-clas.h5')"
   ]
  }
 ],
 "metadata": {
  "kernelspec": {
   "display_name": "Python 2",
   "language": "python",
   "name": "python2"
  },
  "language_info": {
   "codemirror_mode": {
    "name": "ipython",
    "version": 2
   },
   "file_extension": ".py",
   "mimetype": "text/x-python",
   "name": "python",
   "nbconvert_exporter": "python",
   "pygments_lexer": "ipython2",
   "version": "2.7.6"
  }
 },
 "nbformat": 4,
 "nbformat_minor": 0
}
