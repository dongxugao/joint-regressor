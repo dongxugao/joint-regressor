{
 "cells": [
  {
   "cell_type": "markdown",
   "metadata": {},
   "source": [
    "This notebook is a handy tool for converting CNNs produced by `train.py` to fully convolutional CNNs for evaluation."
   ]
  },
  {
   "cell_type": "code",
   "execution_count": null,
   "metadata": {
    "collapsed": false
   },
   "outputs": [],
   "source": [
    "%matplotlib inline\n",
    "\n",
    "from keras.models import model_from_json\n",
    "from keras.optimizers import SGD\n",
    "\n",
    "from os import path\n",
    "\n",
    "from train import infer_sizes\n",
    "import models"
   ]
  },
  {
   "cell_type": "markdown",
   "metadata": {},
   "source": [
    "Configuration and metadata (layer size) gathering"
   ]
  },
  {
   "cell_type": "code",
   "execution_count": null,
   "metadata": {
    "collapsed": false
   },
   "outputs": [],
   "source": [
    "cache_dir = '../cache/mpii-cooking/' # Change me!\n",
    "orig_path = path.join(cache_dir,  'keras-checkpoints/checkpoints/model-iter-16640-r349513.h5') # Change me!\n",
    "train_h5_path = path.join(cache_dir, 'train-patches/samples-000001.h5')\n",
    "ds_shape = infer_sizes(train_h5_path)"
   ]
  },
  {
   "cell_type": "markdown",
   "metadata": {},
   "source": [
    "Load a model"
   ]
  },
  {
   "cell_type": "code",
   "execution_count": null,
   "metadata": {
    "collapsed": false
   },
   "outputs": [],
   "source": [
    "sgd2 = SGD(lr=0.0001, nesterov=True, momentum=0.9)\n",
    "poselet_model = models.vggnet16_poselet_class_flow(ds_shape, sgd2, 'glorot_normal')\n",
    "poselet_model.load_weights(orig_path)"
   ]
  },
  {
   "cell_type": "markdown",
   "metadata": {},
   "source": [
    "Upgrade the model"
   ]
  },
  {
   "cell_type": "code",
   "execution_count": null,
   "metadata": {
    "collapsed": false,
    "scrolled": true
   },
   "outputs": [],
   "source": [
    "upgraded_poselet_model = models.upgrade_multipath_poselet_vggnet(poselet_model)\n",
    "assert poselet_model.loss, \"Model needs a non-empty loss\"\n",
    "upgraded_poselet_model.compile(sgd2, poselet_model.loss)"
   ]
  },
  {
   "cell_type": "markdown",
   "metadata": {},
   "source": [
    "Save a description of the model and its new weights to `cnn_model.{json,h5}` in the cache directory."
   ]
  },
  {
   "cell_type": "code",
   "execution_count": null,
   "metadata": {
    "collapsed": false
   },
   "outputs": [],
   "source": [
    "mod_json = upgraded_poselet_model.to_json()\n",
    "mod_json_path = path.join(cache_dir, 'cnn_model.json')\n",
    "mod_weight_path = path.join(cache_dir, 'cnn_model.h5')\n",
    "with open(mod_json_path, 'w') as fp:\n",
    "    fp.write(mod_json)\n",
    "upgraded_poselet_model.save_weights(mod_weight_path)"
   ]
  },
  {
   "cell_type": "markdown",
   "metadata": {},
   "source": [
    "(Optional) Re-read the model to verify that it wrote out correctly."
   ]
  },
  {
   "cell_type": "code",
   "execution_count": null,
   "metadata": {
    "collapsed": true
   },
   "outputs": [],
   "source": [
    "def ask(question):\n",
    "    res = raw_input(question + ' (y[es] for affirmative, any other response for negative) ')\n",
    "    return res.lower() in ['y', 'yes']"
   ]
  },
  {
   "cell_type": "code",
   "execution_count": null,
   "metadata": {
    "collapsed": false
   },
   "outputs": [],
   "source": [
    "if ask('Want to re-read the model?'):\n",
    "    with open(mod_json_path) as fp:\n",
    "        json_data = fp.read()\n",
    "    m2 = model_from_json(json_data)\n",
    "    m2.load_weights(mod_weight_path)"
   ]
  },
  {
   "cell_type": "markdown",
   "metadata": {},
   "source": [
    "(Optional) visualise the models"
   ]
  },
  {
   "cell_type": "code",
   "execution_count": null,
   "metadata": {
    "collapsed": false
   },
   "outputs": [],
   "source": [
    "if ask('Want to visualise the model?'):\n",
    "    SVG(to_graph(poselet_model, show_shape=True).create(prog='dot', format='svg'))"
   ]
  }
 ],
 "metadata": {
  "kernelspec": {
   "display_name": "Python 2",
   "language": "python",
   "name": "python2"
  },
  "language_info": {
   "codemirror_mode": {
    "name": "ipython",
    "version": 2
   },
   "file_extension": ".py",
   "mimetype": "text/x-python",
   "name": "python",
   "nbconvert_exporter": "python",
   "pygments_lexer": "ipython2",
   "version": "2.7.6"
  }
 },
 "nbformat": 4,
 "nbformat_minor": 0
}
