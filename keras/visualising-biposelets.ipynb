{
 "cells": [
  {
   "cell_type": "markdown",
   "metadata": {},
   "source": [
    "# Learnt biposelet visualisation\n",
    "\n",
    "This notebook looks at the training HDF5 file and, for each biposelet, scrapes out some relevant examples. The resultant figures should be helpful for my paper."
   ]
  },
  {
   "cell_type": "code",
   "execution_count": null,
   "metadata": {
    "collapsed": false
   },
   "outputs": [],
   "source": [
    "%matplotlib inline\n",
    "\n",
    "from os import path, makedirs\n",
    "\n",
    "import h5py\n",
    "\n",
    "import numpy as np\n",
    "\n",
    "import matplotlib.pyplot as plt\n",
    "\n",
    "from scipy.misc import imsave\n",
    "\n",
    "from train import infer_sizes"
   ]
  },
  {
   "cell_type": "code",
   "execution_count": null,
   "metadata": {
    "collapsed": false
   },
   "outputs": [],
   "source": [
    "train_h5_path = '../cache/mpii-cooking/train-patches/samples-000001.h5'\n",
    "train_h5 = h5py.File(train_h5_path, 'r')\n",
    "train_images = train_h5['images']\n",
    "poselets = train_h5['poselet']\n",
    "poselets_flat = np.argmax(poselets, 1)\n",
    "ds_shape = infer_sizes(train_h5_path)"
   ]
  },
  {
   "cell_type": "code",
   "execution_count": null,
   "metadata": {
    "collapsed": false
   },
   "outputs": [],
   "source": [
    "np.random.seed(229) # Determinism\n",
    "samples_per_poselet = 10\n",
    "poselets_to_choose = 10\n",
    "dest_path = '/home/sam/delete-me/poselet-scrapes/'\n",
    "all_poselet_nums = np.arange(1, poselets.shape[1])\n",
    "np.random.shuffle(all_poselet_nums)\n",
    "chosen_poselet_nums = all_poselet_nums[:poselets_to_choose]"
   ]
  },
  {
   "cell_type": "code",
   "execution_count": null,
   "metadata": {
    "collapsed": false
   },
   "outputs": [],
   "source": [
    "def get_samples_for_poselet(poselet, samples_per_poselet=samples_per_poselet, \n",
    "                            all_images=train_images, all_poselets=poselets_flat):\n",
    "    valid_samples, = np.nonzero(all_poselets == poselet)\n",
    "    np.random.shuffle(valid_samples)\n",
    "    valid_samples = valid_samples[:samples_per_poselet]\n",
    "    assert len(valid_samples) == samples_per_poselet\n",
    "    # bin_mask = np.full((len(all_poselets),), False, dtype=bool)\n",
    "    # bin_mask[valid_samples] = True\n",
    "    h5_indices = sorted(valid_samples.tolist())\n",
    "    images = np.transpose(all_images[h5_indices], axes=[0, 2, 3, 1])\n",
    "    images = images.reshape(images.shape[:-1] + (2, 3)) \\\n",
    "        .transpose([0, 3, 1, 2, 4])\n",
    "    return images"
   ]
  },
  {
   "cell_type": "code",
   "execution_count": null,
   "metadata": {
    "collapsed": false
   },
   "outputs": [],
   "source": [
    "p1_samples = get_samples_for_poselet(256)\n",
    "fig, subplots = plt.subplots(2, len(p1_samples))\n",
    "for idx, frames in enumerate(p1_samples):\n",
    "    for f in range(2):\n",
    "        sp = subplots[f][idx]\n",
    "        im = frames[f]\n",
    "        sp.imshow(im)\n",
    "        sp.axis('off')\n",
    "fig.set_size_inches((14, 3))\n",
    "plt.show()"
   ]
  },
  {
   "cell_type": "code",
   "execution_count": null,
   "metadata": {
    "collapsed": false
   },
   "outputs": [],
   "source": [
    "for chosen_num in chosen_poselet_nums:\n",
    "    samples = get_samples_for_poselet(chosen_num)\n",
    "    save_dir = path.join(dest_path, 'poselet-%i' % chosen_num)\n",
    "    try:\n",
    "        makedirs(save_dir)\n",
    "    except OSError:\n",
    "        pass\n",
    "    for idx, frames in enumerate(samples):\n",
    "        for f in range(2):\n",
    "            im = frames[f]\n",
    "            save_path = path.join(save_dir, 'sample-%i-f%i.jpg' % (idx, f))\n",
    "            print('Saving image to %s' % save_path)\n",
    "            imsave(save_path, im)"
   ]
  },
  {
   "cell_type": "code",
   "execution_count": null,
   "metadata": {
    "collapsed": true
   },
   "outputs": [],
   "source": []
  }
 ],
 "metadata": {
  "kernelspec": {
   "display_name": "Python 2",
   "language": "python",
   "name": "python2"
  },
  "language_info": {
   "codemirror_mode": {
    "name": "ipython",
    "version": 2
   },
   "file_extension": ".py",
   "mimetype": "text/x-python",
   "name": "python",
   "nbconvert_exporter": "python",
   "pygments_lexer": "ipython2",
   "version": "2.7.6"
  }
 },
 "nbformat": 4,
 "nbformat_minor": 0
}
