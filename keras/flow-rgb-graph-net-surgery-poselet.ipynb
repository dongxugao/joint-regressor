{
 "cells": [
  {
   "cell_type": "markdown",
   "metadata": {},
   "source": [
    "# Net surgery to produce a `Graph` model for regressing poselets"
   ]
  },
  {
   "cell_type": "code",
   "execution_count": null,
   "metadata": {
    "collapsed": false
   },
   "outputs": [],
   "source": [
    "%matplotlib inline\n",
    "\n",
    "from keras.optimizers import SGD\n",
    "\n",
    "import numpy as np\n",
    "\n",
    "import models\n",
    "from vggnet.upgrade_weights import upgrade_weights\n",
    "from vggnet.vgg16_keras import VGG_16"
   ]
  },
  {
   "cell_type": "code",
   "execution_count": null,
   "metadata": {
    "collapsed": true
   },
   "outputs": [],
   "source": [
    "models = reload(models)\n",
    "solver = SGD()\n",
    "rgb_shape = (6, 224, 224)\n",
    "flow_shape = (2, 224, 224)\n",
    "regressor_outputs = 6\n",
    "init = 'glorot_normal'"
   ]
  },
  {
   "cell_type": "code",
   "execution_count": null,
   "metadata": {
    "collapsed": false
   },
   "outputs": [],
   "source": [
    "huge = models.vggnet16_poselet_class_flow({\n",
    "    'images': (6, 224, 224),\n",
    "    'flow': (2, 224, 224),\n",
    "    'poselet': (301,)\n",
    "}, solver, init)"
   ]
  },
  {
   "cell_type": "code",
   "execution_count": null,
   "metadata": {
    "collapsed": false
   },
   "outputs": [],
   "source": [
    "flow_seq = huge.nodes['flow_conv']\n",
    "rgb_seq = huge.nodes['rgb_conv']\n",
    "ilsvrc_weights_path = './vggnet/vgg16_weights.h5'\n",
    "ilsvrc_model = VGG_16(ilsvrc_weights_path)\n",
    "upgrade_weights(flow_seq.layers, ilsvrc_model.layers)\n",
    "upgrade_weights(rgb_seq.layers, ilsvrc_model.layers)"
   ]
  },
  {
   "cell_type": "code",
   "execution_count": null,
   "metadata": {
    "collapsed": false
   },
   "outputs": [],
   "source": [
    "front_layers = len(flow_seq.layers)\n",
    "assert front_layers == len(rgb_seq.layers), \"Flow and RGB pipelines should be same length\"\n",
    "back_ilsvrc_layers = ilsvrc_model.layers[front_layers:]\n",
    "back_seq = huge.nodes['shared_layers']\n",
    "upgrade_weights(back_seq.layers, back_ilsvrc_layers)"
   ]
  },
  {
   "cell_type": "code",
   "execution_count": null,
   "metadata": {
    "collapsed": false
   },
   "outputs": [],
   "source": [
    "huge.save_weights('vggnet/vgg16-2stream-pslt-clas.h5')"
   ]
  },
  {
   "cell_type": "code",
   "execution_count": null,
   "metadata": {
    "collapsed": true
   },
   "outputs": [],
   "source": []
  }
 ],
 "metadata": {
  "kernelspec": {
   "display_name": "Python 2",
   "language": "python",
   "name": "python2"
  },
  "language_info": {
   "codemirror_mode": {
    "name": "ipython",
    "version": 2
   },
   "file_extension": ".py",
   "mimetype": "text/x-python",
   "name": "python",
   "nbconvert_exporter": "python",
   "pygments_lexer": "ipython2",
   "version": "2.7.6"
  }
 },
 "nbformat": 4,
 "nbformat_minor": 0
}
